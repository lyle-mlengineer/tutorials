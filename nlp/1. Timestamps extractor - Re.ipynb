{
 "cells": [
  {
   "cell_type": "code",
   "execution_count": 1,
   "id": "c9ca9b12-c0a2-4736-995d-101d31271619",
   "metadata": {},
   "outputs": [],
   "source": [
    "from datasets import load_dataset\n",
    "import re\n",
    "import random"
   ]
  },
  {
   "cell_type": "code",
   "execution_count": 3,
   "id": "8a375a25-70e5-4a35-848d-dceea8ccd81f",
   "metadata": {},
   "outputs": [],
   "source": [
    "dataset_name: str = \"lyleokoth/youtube-timestamps-extraction\""
   ]
  },
  {
   "cell_type": "code",
   "execution_count": 4,
   "id": "58d0d397-e2a7-49b4-bfec-9d010ee90370",
   "metadata": {},
   "outputs": [],
   "source": [
    "dataset = load_dataset(dataset_name)"
   ]
  },
  {
   "cell_type": "code",
   "execution_count": 6,
   "id": "fcc22b91-5825-4665-9d31-816624a93590",
   "metadata": {},
   "outputs": [
    {
     "data": {
      "text/plain": [
       "580"
      ]
     },
     "execution_count": 6,
     "metadata": {},
     "output_type": "execute_result"
    }
   ],
   "source": [
    "len(dataset['train'])"
   ]
  },
  {
   "cell_type": "code",
   "execution_count": 7,
   "id": "6cf86f81-240b-4ab8-baef-d0c8bd6db5c6",
   "metadata": {},
   "outputs": [
    {
     "data": {
      "text/plain": [
       "{'instruction': 'Extract the timestamp from the given text.',\n",
       " 'output': {'time_stamps': [{'end_time': '1:15',\n",
       "    'start_time': '0:00',\n",
       "    'title': 'Read the problem'},\n",
       "   {'end_time': '8:00', 'start_time': '1:15', 'title': 'Drawing Explanation'},\n",
       "   {'end_time': '', 'start_time': '8:00', 'title': 'Coding Explanation'}]},\n",
       " 'input': \"🚀 https://neetcode.io/ - A better way to prepare for Coding Interviews\\n\\nSolving Leetcode 2300 - Successful Pairs of Spells and Potions, today's daily leetcode problem on April 1st.\\n\\n🥷 Discord: https://discord.gg/ddjKRXPqtk\\n🐦 Twitter: https://twitter.com/neetcode1\\n\\n🐮 Support the channel: https://www.patreon.com/NEETcode\\n\\n⭐ BLIND-75 PLAYLIST: https://www.youtube.com/watch?v=KLlXCFG5TnA&list=PLot-Xpze53ldVwtstag2TL4HQhAnC8ATf\\n💡 DYNAMIC PROGRAMMING PLAYLIST: https://www.youtube.com/watch?v=73r3KWiEvyk&list=PLot-Xpze53lcvx_tjrr_m2lgD2NsRHlNO&index=1\\n\\nProblem Link: https://leetcode.com/problems/successful-pairs-of-spells-and-potions/\\n\\n0:00 - Read the problem\\n1:15 - Drawing Explanation\\n8:00 - Coding Explanation\\n\\nleetcode 2300\\n\\n#neetcode #leetcode #python\"}"
      ]
     },
     "execution_count": 7,
     "metadata": {},
     "output_type": "execute_result"
    }
   ],
   "source": [
    "dataset['train'][0]"
   ]
  },
  {
   "cell_type": "code",
   "execution_count": 9,
   "id": "f95582d3-005b-46bb-b4ad-24d9718473ae",
   "metadata": {},
   "outputs": [
    {
     "name": "stdout",
     "output_type": "stream",
     "text": [
      "🚀 https://neetcode.io/ - A better way to prepare for Coding Interviews\n",
      "\n",
      "Solving Leetcode 2300 - Successful Pairs of Spells and Potions, today's daily leetcode problem on April 1st.\n",
      "\n",
      "🥷 Discord: https://discord.gg/ddjKRXPqtk\n",
      "🐦 Twitter: https://twitter.com/neetcode1\n",
      "\n",
      "🐮 Support the channel: https://www.patreon.com/NEETcode\n",
      "\n",
      "⭐ BLIND-75 PLAYLIST: https://www.youtube.com/watch?v=KLlXCFG5TnA&list=PLot-Xpze53ldVwtstag2TL4HQhAnC8ATf\n",
      "💡 DYNAMIC PROGRAMMING PLAYLIST: https://www.youtube.com/watch?v=73r3KWiEvyk&list=PLot-Xpze53lcvx_tjrr_m2lgD2NsRHlNO&index=1\n",
      "\n",
      "Problem Link: https://leetcode.com/problems/successful-pairs-of-spells-and-potions/\n",
      "\n",
      "0:00 - Read the problem\n",
      "1:15 - Drawing Explanation\n",
      "8:00 - Coding Explanation\n",
      "\n",
      "leetcode 2300\n",
      "\n",
      "#neetcode #leetcode #python\n"
     ]
    }
   ],
   "source": [
    "sample = dataset['train'][0]['input']\n",
    "print(sample)"
   ]
  },
  {
   "cell_type": "markdown",
   "id": "5c0a0c6d-9a20-45fe-a0ea-8c96f7a27387",
   "metadata": {},
   "source": [
    "# The pattern\n",
    "What we are looking for is:\n",
    "1. One or more digits followed by a colon\n",
    "2. Pattern one repeated severally\n",
    "3. Then one or more digits followed by any non newline character\n",
    "4. Some timestamps include brackets around the timestamps\n",
    "\n",
    "# Sample patterns\n",
    "1. [00:00] Tiny but Mighty\n",
    "2. 0:00 - Read the problem\n",
    "3. 1:11 - 1. Fibonacci Numbers"
   ]
  },
  {
   "cell_type": "code",
   "execution_count": 12,
   "id": "6c1d9f0c-4ca4-42d8-87f4-a8122572388f",
   "metadata": {},
   "outputs": [
    {
     "name": "stdout",
     "output_type": "stream",
     "text": [
      "<re.Match object; span=(637, 660), match='0:00 - Read the problem'>\n",
      "<re.Match object; span=(661, 687), match='1:15 - Drawing Explanation'>\n",
      "<re.Match object; span=(688, 713), match='8:00 - Coding Explanation'>\n"
     ]
    }
   ],
   "source": [
    "pattern = re.compile(r\"(\\d+:)+\\d+.+\")\n",
    "matches = re.finditer(pattern, sample)\n",
    "for match in matches:\n",
    "    print(match)"
   ]
  },
  {
   "cell_type": "code",
   "execution_count": 13,
   "id": "e3a6d75f-7937-4515-b323-5e623dfd47d3",
   "metadata": {},
   "outputs": [
    {
     "name": "stdout",
     "output_type": "stream",
     "text": [
      "🚀 https://neetcode.io/ - A better way to prepare for Coding Interviews\n",
      "\n",
      "🥷 Discord: https://discord.gg/ddjKRXPqtk\n",
      "🐦 Twitter: https://twitter.com/neetcode1\n",
      "\n",
      "🐮 Support the channel: https://www.patreon.com/NEETcode\n",
      "\n",
      "⭐ BLIND-75 PLAYLIST: https://www.youtube.com/watch?v=KLlXCFG5TnA&list=PLot-Xpze53ldVwtstag2TL4HQhAnC8ATf\n",
      "💡 DYNAMIC PROGRAMMING PLAYLIST: https://www.youtube.com/watch?v=73r3KWiEvyk&list=PLot-Xpze53lcvx_tjrr_m2lgD2NsRHlNO&index=1\n",
      "\n",
      "Problem Link: https://leetcode.com/problems/split-array-largest-sum/\n",
      "\n",
      "0:00 - Read the problem\n",
      "2:10 - Explain Brute Force & DP\n",
      "4:32 - Memoization Code\n",
      "5:10 - Explain Binary Search\n",
      "12:21 - Coding Binary Search\n",
      "\n",
      "leetcode 410\n",
      "This question was identified as an interview question from here: https://github.com/xizhengszhang/Leetcode_company_frequency\n",
      "\n",
      "\n",
      "#amazon #interview  #python\n",
      "Disclosure: Some of the links above may be affiliate links, from which I may earn a small commission.\n",
      "----------------------------\n",
      "0:00 - Read the problem\n",
      "2:10 - Explain Brute Force & DP\n",
      "4:32 - Memoization Code\n",
      "5:10 - Explain Binary Search\n",
      "12:21 - Coding Binary Search\n"
     ]
    }
   ],
   "source": [
    "idx = random.randint(0, len(dataset['train']))\n",
    "sample = dataset['train'][idx]['input']\n",
    "print(sample)\n",
    "print(\"----------------------------\")\n",
    "pattern = re.compile(r\"(\\d+:)+\\d+.+\")\n",
    "matches = re.finditer(pattern, sample)\n",
    "for match in matches:\n",
    "    print(match.group())"
   ]
  },
  {
   "cell_type": "code",
   "execution_count": 14,
   "id": "ee292e56-2266-4577-8c2e-d21145d2d508",
   "metadata": {},
   "outputs": [
    {
     "name": "stdout",
     "output_type": "stream",
     "text": [
      "🚀 https://neetcode.io/ - A better way to prepare for Coding Interviews\n",
      "\n",
      "🐦 Twitter: https://twitter.com/neetcode1\n",
      "🥷 Discord: https://discord.gg/ddjKRXPqtk\n",
      "\n",
      "🐮 Support the channel: https://www.patreon.com/NEETcode\n",
      "\n",
      "Twitter: https://twitter.com/neetcode1\n",
      "Discord: https://discord.gg/ddjKRXPqtk\n",
      "\n",
      "💡 CODING SOLUTIONS: https://www.youtube.com/playlist?list=PLot-Xpze53leF0FeHz2X0aG3zd0mr1AW_\n",
      "💡 DYNAMIC PROGRAMMING PLAYLIST: https://www.youtube.com/watch?v=73r3KWiEvyk&list=PLot-Xpze53lcvx_tjrr_m2lgD2NsRHlNO&index=1\n",
      "🌲 TREE PLAYLIST: https://www.youtube.com/watch?v=OnSn2XEQ4MY&list=PLot-Xpze53ldg4pN6PfzoJY7KsKcxF1jg&index=2\n",
      "💡 GRAPH PLAYLIST: https://www.youtube.com/watch?v=EgI5nU9etnU&list=PLot-Xpze53ldBT_7QA8NVot219jFNr_GI\n",
      "💡 BACKTRACKING PLAYLIST: https://www.youtube.com/watch?v=pfiQ_PS1g8E&list=PLot-Xpze53lf5C3HSjCnyFghlW0G1HHXo\n",
      "💡 LINKED LIST PLAYLIST: https://www.youtube.com/watch?v=G0_I-ZF0S38&list=PLot-Xpze53leU0Ec0VkBhnf4npMRFiNcB&index=2\n",
      "\n",
      "\n",
      "Problem Link: https://leetcode.com/problems/house-robber/\n",
      "\n",
      "0:00 Conceptual\n",
      "8:03 Coding optimal solution\n",
      "\n",
      "#python #neetcode #leetcode\n",
      "\n",
      "Disclosure: Some of the links above may be affiliate links, from which I may earn a small commission.\n",
      "----------------------------\n",
      "0:00 Conceptual\n",
      "('0:', '00', ' Conceptual')\n",
      "8:03 Coding optimal solution\n",
      "('8:', '03', ' Coding optimal solution')\n"
     ]
    }
   ],
   "source": [
    "idx = random.randint(0, len(dataset['train']))\n",
    "sample = dataset['train'][idx]['input']\n",
    "print(sample)\n",
    "print(\"----------------------------\")\n",
    "pattern = re.compile(r\"(\\d+:)+(\\d+)(.+)\")\n",
    "matches = re.finditer(pattern, sample)\n",
    "for match in matches:\n",
    "    print(match.group())\n",
    "    print(match.groups())"
   ]
  },
  {
   "cell_type": "code",
   "execution_count": 15,
   "id": "c8cd06b8-0177-4884-94b8-f75c9464f3aa",
   "metadata": {},
   "outputs": [],
   "source": [
    "def post_process_title(title: str) -> str:\n",
    "    title: str = re.sub(r'-', '', title)\n",
    "    title = title.strip()\n",
    "    return title\n",
    "\n",
    "def get_timestamp_and_title(match_group: tuple) -> dict[str, str]:\n",
    "    title: str = match_group[2]\n",
    "    title = post_process_title(title=title)\n",
    "    timestamp: str = match_group[0] + match_group[1]\n",
    "    return {\n",
    "        \"timestamp\": timestamp,\n",
    "        \"title\": title\n",
    "    }\n",
    "\n",
    "def extract_timestamps(text: str, pattern: str) -> dict[str, list]:\n",
    "    timestamps: list[dict[str, str]] = []\n",
    "    matches = re.finditer(pattern, text)\n",
    "    for match in matches:\n",
    "        timestamp: dict[str, str] = get_timestamp_and_title(match.groups())\n",
    "        timestamps.append(timestamp)\n",
    "    return {\n",
    "        \"timestamps\": timestamps\n",
    "    }"
   ]
  },
  {
   "cell_type": "code",
   "execution_count": 16,
   "id": "9292f6b6-3438-4493-9fb6-4c2c8816d054",
   "metadata": {},
   "outputs": [],
   "source": [
    "pattern_two = r\"(\\d+:)+(\\d+)(.+)\"\n",
    "pattern_two_compiled = re.compile(pattern_two)"
   ]
  },
  {
   "cell_type": "code",
   "execution_count": 18,
   "id": "7b19c39f-2157-45e3-bc2f-1b0583814e00",
   "metadata": {},
   "outputs": [
    {
     "data": {
      "text/plain": [
       "{'timestamps': [{'timestamp': '0:00', 'title': 'Read the problem'},\n",
       "  {'timestamp': '0:35', 'title': 'Drawing Explanation'},\n",
       "  {'timestamp': '10:30', 'title': 'Coding Explanation'}]}"
      ]
     },
     "execution_count": 18,
     "metadata": {},
     "output_type": "execute_result"
    }
   ],
   "source": [
    "idx = random.randint(0, len(dataset['train']))\n",
    "sample = dataset['train'][idx]['input']\n",
    "extract_timestamps(text=sample, pattern=pattern_two_compiled)"
   ]
  },
  {
   "cell_type": "code",
   "execution_count": null,
   "id": "f2d33f9b-3280-438e-97d9-317f42c1370d",
   "metadata": {},
   "outputs": [],
   "source": []
  }
 ],
 "metadata": {
  "kernelspec": {
   "display_name": "Python 3 (ipykernel)",
   "language": "python",
   "name": "python3"
  },
  "language_info": {
   "codemirror_mode": {
    "name": "ipython",
    "version": 3
   },
   "file_extension": ".py",
   "mimetype": "text/x-python",
   "name": "python",
   "nbconvert_exporter": "python",
   "pygments_lexer": "ipython3",
   "version": "3.12.3"
  }
 },
 "nbformat": 4,
 "nbformat_minor": 5
}
